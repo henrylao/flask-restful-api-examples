{
 "cells": [
  {
   "cell_type": "markdown",
   "id": "b4565e1f",
   "metadata": {},
   "source": [
    "Source: \n",
    "- https://towardsdatascience.com/creating-restful-apis-using-flask-and-python-655bad51b24"
   ]
  },
  {
   "cell_type": "markdown",
   "id": "fb4dba5c",
   "metadata": {},
   "source": [
    "# Example 1"
   ]
  },
  {
   "cell_type": "code",
   "execution_count": null,
   "id": "e0bc9656",
   "metadata": {},
   "outputs": [],
   "source": [
    "from flask import jsonify\n",
    "@app.route('/person/')\n",
    "def hello():\n",
    "    return jsonify({'name':'Jimit',\n",
    "                    'address':'India'})\n"
   ]
  },
  {
   "cell_type": "markdown",
   "id": "fb255653",
   "metadata": {},
   "source": [
    "# Example 2"
   ]
  },
  {
   "cell_type": "code",
   "execution_count": null,
   "id": "d41cc555",
   "metadata": {},
   "outputs": [
    {
     "name": "stdout",
     "output_type": "stream",
     "text": [
      " * Serving Flask app '__main__' (lazy loading)\n",
      " * Environment: production\n",
      "\u001b[31m   WARNING: This is a development server. Do not use it in a production deployment.\u001b[0m\n",
      "\u001b[2m   Use a production WSGI server instead.\u001b[0m\n",
      " * Debug mode: off\n"
     ]
    },
    {
     "name": "stderr",
     "output_type": "stream",
     "text": [
      " * Running on http://127.0.0.1:5000/ (Press CTRL+C to quit)\n",
      "127.0.0.1 - - [27/Feb/2022 22:06:53] \"\u001b[33mGET / HTTP/1.1\u001b[0m\" 404 -\n",
      "127.0.0.1 - - [27/Feb/2022 22:07:15] \"\u001b[32mGET /numbers HTTP/1.1\u001b[0m\" 308 -\n",
      "127.0.0.1 - - [27/Feb/2022 22:07:15] \"GET /numbers/ HTTP/1.1\" 200 -\n"
     ]
    }
   ],
   "source": [
    "from flask import jsonify\n",
    "\n",
    "from flask import Flask\n",
    "app = Flask(__name__)\n",
    "@app.route('/<int:number>/')\n",
    "def incrementer(number):\n",
    "    return \"Incremented number is \" + str(number+1)\n",
    "@app.route('/<string:name>/')\n",
    "def hello(name):\n",
    "    return \"Hello \" + name\n",
    "\n",
    "@app.route('/numbers/')\n",
    "def print_list():\n",
    "    return jsonify(list(range(5)))\n",
    "app.run()\n"
   ]
  },
  {
   "cell_type": "code",
   "execution_count": null,
   "id": "39cfce9a",
   "metadata": {},
   "outputs": [],
   "source": []
  }
 ],
 "metadata": {
  "kernelspec": {
   "display_name": "Python 3 (ipykernel)",
   "language": "python",
   "name": "python3"
  },
  "language_info": {
   "codemirror_mode": {
    "name": "ipython",
    "version": 3
   },
   "file_extension": ".py",
   "mimetype": "text/x-python",
   "name": "python",
   "nbconvert_exporter": "python",
   "pygments_lexer": "ipython3",
   "version": "3.9.7"
  }
 },
 "nbformat": 4,
 "nbformat_minor": 5
}
