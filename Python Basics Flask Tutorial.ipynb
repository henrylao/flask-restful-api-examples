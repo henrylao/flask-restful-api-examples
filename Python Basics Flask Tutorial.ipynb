{
 "cells": [
  {
   "cell_type": "markdown",
   "id": "ec0ba9a7",
   "metadata": {},
   "source": [
    "# Overview\n",
    "The following are a collection of examples for exploring REST API development using Python and the Flask framework\n",
    "\n",
    "__NOTE__ to stop the flask server, navigate to `Kernel` $\\rightarrow$ `Interrupt`\n",
    "\n",
    "\n",
    "Source\n",
    "- https://pythonbasics.org/flask-rest-api/"
   ]
  },
  {
   "cell_type": "markdown",
   "id": "7cd65388",
   "metadata": {},
   "source": [
    "# Example 1\n",
    "- Run the following and observe for a "
   ]
  },
  {
   "cell_type": "code",
   "execution_count": 6,
   "id": "f1c2d1f7",
   "metadata": {},
   "outputs": [
    {
     "name": "stdout",
     "output_type": "stream",
     "text": [
      " * Serving Flask app '__main__' (lazy loading)\n",
      " * Environment: production\n",
      "\u001b[31m   WARNING: This is a development server. Do not use it in a production deployment.\u001b[0m\n",
      "\u001b[2m   Use a production WSGI server instead.\u001b[0m\n",
      " * Debug mode: off\n"
     ]
    },
    {
     "name": "stderr",
     "output_type": "stream",
     "text": [
      "127.0.0.1 - - [27/Feb/2022 21:51:02] \"GET / HTTP/1.1\" 200 -\n"
     ]
    }
   ],
   "source": [
    "#!/usr/bin/env python\n",
    "# encoding: utf-8\n",
    "import json\n",
    "from flask import Flask\n",
    "app = Flask(__name__)\n",
    "@app.route('/')\n",
    "def index():\n",
    "    return json.dumps({'name': 'alice',\n",
    "                       'email': 'alice@outlook.com'})\n",
    "app.run()\n"
   ]
  },
  {
   "cell_type": "markdown",
   "id": "edb86829",
   "metadata": {},
   "source": [
    "# Example 2 "
   ]
  },
  {
   "cell_type": "code",
   "execution_count": 7,
   "id": "b86fe9c3",
   "metadata": {},
   "outputs": [
    {
     "name": "stdout",
     "output_type": "stream",
     "text": [
      " * Serving Flask app '__main__' (lazy loading)\n",
      " * Environment: production\n",
      "\u001b[31m   WARNING: This is a development server. Do not use it in a production deployment.\u001b[0m\n",
      "\u001b[2m   Use a production WSGI server instead.\u001b[0m\n",
      " * Debug mode: off\n"
     ]
    },
    {
     "name": "stderr",
     "output_type": "stream",
     "text": [
      "127.0.0.1 - - [27/Feb/2022 21:51:13] \"GET / HTTP/1.1\" 200 -\n"
     ]
    }
   ],
   "source": [
    "#!/usr/bin/env python\n",
    "# encoding: utf-8\n",
    "import json\n",
    "from flask import Flask, jsonify\n",
    "app = Flask(__name__)\n",
    "@app.route('/')\n",
    "def index():\n",
    "    return jsonify({'name': 'alice',\n",
    "                    'email': 'alice@outlook.com'})\n",
    "\n",
    "app.run()\n"
   ]
  },
  {
   "cell_type": "markdown",
   "id": "4b6f843f",
   "metadata": {},
   "source": [
    "# Example 3"
   ]
  },
  {
   "cell_type": "code",
   "execution_count": 1,
   "id": "df33ff27",
   "metadata": {},
   "outputs": [
    {
     "name": "stdout",
     "output_type": "stream",
     "text": [
      " * Serving Flask app '__main__' (lazy loading)\n",
      " * Environment: production\n",
      "\u001b[31m   WARNING: This is a development server. Do not use it in a production deployment.\u001b[0m\n",
      "\u001b[2m   Use a production WSGI server instead.\u001b[0m\n",
      " * Debug mode: on\n"
     ]
    },
    {
     "name": "stderr",
     "output_type": "stream",
     "text": [
      " * Running on http://127.0.0.1:5000/ (Press CTRL+C to quit)\n",
      " * Restarting with stat\n",
      "Traceback (most recent call last):\n",
      "  File \"/home/hanz/github/flask-restful-api-examples/venv/lib/python3.9/site-packages/ipykernel_launcher.py\", line 16, in <module>\n",
      "    app.launch_new_instance()\n",
      "  File \"/home/hanz/github/flask-restful-api-examples/venv/lib/python3.9/site-packages/traitlets/config/application.py\", line 845, in launch_instance\n",
      "    app.initialize(argv)\n",
      "  File \"/home/hanz/github/flask-restful-api-examples/venv/lib/python3.9/site-packages/traitlets/config/application.py\", line 88, in inner\n",
      "    return method(app, *args, **kwargs)\n",
      "  File \"/home/hanz/github/flask-restful-api-examples/venv/lib/python3.9/site-packages/ipykernel/kernelapp.py\", line 632, in initialize\n",
      "    self.init_sockets()\n",
      "  File \"/home/hanz/github/flask-restful-api-examples/venv/lib/python3.9/site-packages/ipykernel/kernelapp.py\", line 282, in init_sockets\n",
      "    self.shell_port = self._bind_socket(self.shell_socket, self.shell_port)\n",
      "  File \"/home/hanz/github/flask-restful-api-examples/venv/lib/python3.9/site-packages/ipykernel/kernelapp.py\", line 229, in _bind_socket\n",
      "    return self._try_bind_socket(s, port)\n",
      "  File \"/home/hanz/github/flask-restful-api-examples/venv/lib/python3.9/site-packages/ipykernel/kernelapp.py\", line 205, in _try_bind_socket\n",
      "    s.bind(\"tcp://%s:%i\" % (self.ip, port))\n",
      "  File \"/home/hanz/github/flask-restful-api-examples/venv/lib/python3.9/site-packages/zmq/sugar/socket.py\", line 214, in bind\n",
      "    super().bind(addr)\n",
      "  File \"zmq/backend/cython/socket.pyx\", line 540, in zmq.backend.cython.socket.Socket.bind\n",
      "  File \"zmq/backend/cython/checkrc.pxd\", line 28, in zmq.backend.cython.checkrc._check_rc\n",
      "zmq.error.ZMQError: Address already in use\n"
     ]
    },
    {
     "ename": "SystemExit",
     "evalue": "1",
     "output_type": "error",
     "traceback": [
      "An exception has occurred, use %tb to see the full traceback.\n",
      "\u001b[0;31mSystemExit\u001b[0m\u001b[0;31m:\u001b[0m 1\n"
     ]
    },
    {
     "name": "stderr",
     "output_type": "stream",
     "text": [
      "/home/hanz/github/flask-restful-api-examples/venv/lib/python3.9/site-packages/IPython/core/interactiveshell.py:3348: UserWarning: To exit: use 'exit', 'quit', or Ctrl-D.\n",
      "  warn(\"To exit: use 'exit', 'quit', or Ctrl-D.\", stacklevel=1)\n"
     ]
    }
   ],
   "source": [
    "#!/usr/bin/env python\n",
    "# encoding: utf-8\n",
    "import json\n",
    "from flask import Flask, request, jsonify\n",
    "\n",
    "app = Flask(__name__)\n",
    "\n",
    "@app.route('/', methods=['GET'])\n",
    "def query_records():\n",
    "    name = request.args.get('name')\n",
    "    print (name)\n",
    "    with open('/tmp/data.txt', 'r') as f:\n",
    "        data = f.read()\n",
    "        records = json.loads(data)\n",
    "        for record in records:\n",
    "            if record['name'] == name:\n",
    "                return jsonify(record)\n",
    "        return jsonify({'error': 'data not found'})\n",
    "\n",
    "@app.route('/', methods=['PUT'])\n",
    "def create_record():\n",
    "    record = json.loads(request.data)\n",
    "    with open('/tmp/data.txt', 'r') as f:\n",
    "        data = f.read()\n",
    "    if not data:\n",
    "        records = [record]\n",
    "    else:\n",
    "        records = json.loads(data)\n",
    "        records.append(record)\n",
    "    with open('/tmp/data.txt', 'w') as f:\n",
    "        f.write(json.dumps(records, indent=2))\n",
    "    return jsonify(record)\n",
    "\n",
    "@app.route('/', methods=['POST'])\n",
    "def update_record():\n",
    "    record = json.loads(request.data)\n",
    "    new_records = []\n",
    "    with open('/tmp/data.txt', 'r') as f:\n",
    "        data = f.read()\n",
    "        records = json.loads(data)\n",
    "    for r in records:\n",
    "        if r['name'] == record['name']:\n",
    "            r['email'] = record['email']\n",
    "        new_records.append(r)\n",
    "    with open('/tmp/data.txt', 'w') as f:\n",
    "        f.write(json.dumps(new_records, indent=2))\n",
    "    return jsonify(record)\n",
    "    \n",
    "@app.route('/', methods=['DELETE'])\n",
    "def delte_record():\n",
    "    record = json.loads(request.data)\n",
    "    new_records = []\n",
    "    with open('/tmp/data.txt', 'r') as f:\n",
    "        data = f.read()\n",
    "        records = json.loads(data)\n",
    "        for r in records:\n",
    "            if r['name'] == record['name']:\n",
    "                continue\n",
    "            new_records.append(r)\n",
    "    with open('/tmp/data.txt', 'w') as f:\n",
    "        f.write(json.dumps(new_records, indent=2))\n",
    "    return jsonify(record)\n",
    "\n",
    "app.run(debug=True)\n"
   ]
  },
  {
   "cell_type": "code",
   "execution_count": null,
   "id": "653c3409",
   "metadata": {},
   "outputs": [],
   "source": []
  }
 ],
 "metadata": {
  "kernelspec": {
   "display_name": "Python 3 (ipykernel)",
   "language": "python",
   "name": "python3"
  },
  "language_info": {
   "codemirror_mode": {
    "name": "ipython",
    "version": 3
   },
   "file_extension": ".py",
   "mimetype": "text/x-python",
   "name": "python",
   "nbconvert_exporter": "python",
   "pygments_lexer": "ipython3",
   "version": "3.9.7"
  }
 },
 "nbformat": 4,
 "nbformat_minor": 5
}
